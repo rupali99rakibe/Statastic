{
 "cells": [
  {
   "cell_type": "code",
   "execution_count": 13,
   "id": "3e747ec7-8831-439a-af5d-19c5841e47b5",
   "metadata": {},
   "outputs": [],
   "source": [
    "import pandas as pd\n",
    "import matplotlib.pyplot as plt"
   ]
  },
  {
   "cell_type": "code",
   "execution_count": 14,
   "id": "bd91b5c8-a1dc-42b9-9bb2-8020d2d1eb1c",
   "metadata": {},
   "outputs": [
    {
     "data": {
      "text/html": [
       "<div>\n",
       "<style scoped>\n",
       "    .dataframe tbody tr th:only-of-type {\n",
       "        vertical-align: middle;\n",
       "    }\n",
       "\n",
       "    .dataframe tbody tr th {\n",
       "        vertical-align: top;\n",
       "    }\n",
       "\n",
       "    .dataframe thead th {\n",
       "        text-align: right;\n",
       "    }\n",
       "</style>\n",
       "<table border=\"1\" class=\"dataframe\">\n",
       "  <thead>\n",
       "    <tr style=\"text-align: right;\">\n",
       "      <th></th>\n",
       "      <th>Duration</th>\n",
       "      <th>Date</th>\n",
       "      <th>Pulse</th>\n",
       "      <th>Maxpulse</th>\n",
       "      <th>Calories</th>\n",
       "      <th>Current</th>\n",
       "    </tr>\n",
       "  </thead>\n",
       "  <tbody>\n",
       "    <tr>\n",
       "      <th>0</th>\n",
       "      <td>60</td>\n",
       "      <td>'2020/12/01'</td>\n",
       "      <td>110.0</td>\n",
       "      <td>130</td>\n",
       "      <td>409.1</td>\n",
       "      <td>1990</td>\n",
       "    </tr>\n",
       "    <tr>\n",
       "      <th>1</th>\n",
       "      <td>60</td>\n",
       "      <td>'2020/12/02'</td>\n",
       "      <td>117.0</td>\n",
       "      <td>145</td>\n",
       "      <td>479.0</td>\n",
       "      <td>1991</td>\n",
       "    </tr>\n",
       "    <tr>\n",
       "      <th>2</th>\n",
       "      <td>60</td>\n",
       "      <td>'2020/12/03'</td>\n",
       "      <td>103.0</td>\n",
       "      <td>135</td>\n",
       "      <td>340.0</td>\n",
       "      <td>1992</td>\n",
       "    </tr>\n",
       "    <tr>\n",
       "      <th>3</th>\n",
       "      <td>45</td>\n",
       "      <td>'2020/12/04'</td>\n",
       "      <td>109.0</td>\n",
       "      <td>175</td>\n",
       "      <td>282.4</td>\n",
       "      <td>1993</td>\n",
       "    </tr>\n",
       "    <tr>\n",
       "      <th>4</th>\n",
       "      <td>45</td>\n",
       "      <td>'2020/12/05'</td>\n",
       "      <td>117.0</td>\n",
       "      <td>148</td>\n",
       "      <td>406.0</td>\n",
       "      <td>1994</td>\n",
       "    </tr>\n",
       "  </tbody>\n",
       "</table>\n",
       "</div>"
      ],
      "text/plain": [
       "   Duration          Date  Pulse  Maxpulse  Calories  Current\n",
       "0        60  '2020/12/01'  110.0       130     409.1     1990\n",
       "1        60  '2020/12/02'  117.0       145     479.0     1991\n",
       "2        60  '2020/12/03'  103.0       135     340.0     1992\n",
       "3        45  '2020/12/04'  109.0       175     282.4     1993\n",
       "4        45  '2020/12/05'  117.0       148     406.0     1994"
      ]
     },
     "execution_count": 14,
     "metadata": {},
     "output_type": "execute_result"
    }
   ],
   "source": [
    "df = pd.read_csv(\"D:\\practice_data_set\\dirtydata.csv\")\n",
    "df.head()"
   ]
  },
  {
   "cell_type": "code",
   "execution_count": 15,
   "id": "35319757-0e22-4acb-a13b-7e4f04d0f689",
   "metadata": {},
   "outputs": [
    {
     "name": "stdout",
     "output_type": "stream",
     "text": [
      "<class 'pandas.core.frame.DataFrame'>\n",
      "RangeIndex: 32 entries, 0 to 31\n",
      "Data columns (total 6 columns):\n",
      " #   Column    Non-Null Count  Dtype  \n",
      "---  ------    --------------  -----  \n",
      " 0   Duration  32 non-null     int64  \n",
      " 1   Date      31 non-null     object \n",
      " 2   Pulse     31 non-null     float64\n",
      " 3   Maxpulse  32 non-null     int64  \n",
      " 4   Calories  30 non-null     float64\n",
      " 5   Current   32 non-null     int64  \n",
      "dtypes: float64(2), int64(3), object(1)\n",
      "memory usage: 1.6+ KB\n"
     ]
    }
   ],
   "source": [
    "df.info()"
   ]
  },
  {
   "cell_type": "code",
   "execution_count": 16,
   "id": "a720fdd5-c861-4ac5-9fcf-9b0053615163",
   "metadata": {},
   "outputs": [
    {
     "data": {
      "text/plain": [
       "Duration    0\n",
       "Date        1\n",
       "Pulse       1\n",
       "Maxpulse    0\n",
       "Calories    2\n",
       "Current     0\n",
       "dtype: int64"
      ]
     },
     "execution_count": 16,
     "metadata": {},
     "output_type": "execute_result"
    }
   ],
   "source": [
    "df.isnull().sum()"
   ]
  },
  {
   "cell_type": "code",
   "execution_count": 17,
   "id": "701d592f-13cf-4b34-8284-f43d7a1bc952",
   "metadata": {},
   "outputs": [],
   "source": [
    "df.dropna(inplace=True)"
   ]
  },
  {
   "cell_type": "code",
   "execution_count": 18,
   "id": "da8681c1-06a5-4373-9df4-1a01caf7e7f6",
   "metadata": {},
   "outputs": [
    {
     "data": {
      "text/plain": [
       "Duration    0\n",
       "Date        0\n",
       "Pulse       0\n",
       "Maxpulse    0\n",
       "Calories    0\n",
       "Current     0\n",
       "dtype: int64"
      ]
     },
     "execution_count": 18,
     "metadata": {},
     "output_type": "execute_result"
    }
   ],
   "source": [
    "df.isnull().sum()"
   ]
  },
  {
   "cell_type": "code",
   "execution_count": 19,
   "id": "44632193-7c12-4f00-9241-e9c111103f1f",
   "metadata": {},
   "outputs": [],
   "source": [
    "df1 = df.drop(columns=[\"Date\",\"Calories\",\"Current\"],axis=1)"
   ]
  },
  {
   "cell_type": "code",
   "execution_count": 21,
   "id": "249aac14-3287-44f1-b59c-3e516fd08801",
   "metadata": {},
   "outputs": [
    {
     "data": {
      "text/html": [
       "<div>\n",
       "<style scoped>\n",
       "    .dataframe tbody tr th:only-of-type {\n",
       "        vertical-align: middle;\n",
       "    }\n",
       "\n",
       "    .dataframe tbody tr th {\n",
       "        vertical-align: top;\n",
       "    }\n",
       "\n",
       "    .dataframe thead th {\n",
       "        text-align: right;\n",
       "    }\n",
       "</style>\n",
       "<table border=\"1\" class=\"dataframe\">\n",
       "  <thead>\n",
       "    <tr style=\"text-align: right;\">\n",
       "      <th></th>\n",
       "      <th>Duration</th>\n",
       "      <th>Pulse</th>\n",
       "      <th>Maxpulse</th>\n",
       "    </tr>\n",
       "  </thead>\n",
       "  <tbody>\n",
       "    <tr>\n",
       "      <th>0</th>\n",
       "      <td>60</td>\n",
       "      <td>110.0</td>\n",
       "      <td>130</td>\n",
       "    </tr>\n",
       "    <tr>\n",
       "      <th>1</th>\n",
       "      <td>60</td>\n",
       "      <td>117.0</td>\n",
       "      <td>145</td>\n",
       "    </tr>\n",
       "    <tr>\n",
       "      <th>2</th>\n",
       "      <td>60</td>\n",
       "      <td>103.0</td>\n",
       "      <td>135</td>\n",
       "    </tr>\n",
       "    <tr>\n",
       "      <th>3</th>\n",
       "      <td>45</td>\n",
       "      <td>109.0</td>\n",
       "      <td>175</td>\n",
       "    </tr>\n",
       "    <tr>\n",
       "      <th>4</th>\n",
       "      <td>45</td>\n",
       "      <td>117.0</td>\n",
       "      <td>148</td>\n",
       "    </tr>\n",
       "    <tr>\n",
       "      <th>5</th>\n",
       "      <td>60</td>\n",
       "      <td>102.0</td>\n",
       "      <td>127</td>\n",
       "    </tr>\n",
       "    <tr>\n",
       "      <th>6</th>\n",
       "      <td>60</td>\n",
       "      <td>110.0</td>\n",
       "      <td>136</td>\n",
       "    </tr>\n",
       "    <tr>\n",
       "      <th>7</th>\n",
       "      <td>450</td>\n",
       "      <td>104.0</td>\n",
       "      <td>134</td>\n",
       "    </tr>\n",
       "    <tr>\n",
       "      <th>8</th>\n",
       "      <td>30</td>\n",
       "      <td>109.0</td>\n",
       "      <td>133</td>\n",
       "    </tr>\n",
       "    <tr>\n",
       "      <th>9</th>\n",
       "      <td>60</td>\n",
       "      <td>98.0</td>\n",
       "      <td>124</td>\n",
       "    </tr>\n",
       "    <tr>\n",
       "      <th>10</th>\n",
       "      <td>60</td>\n",
       "      <td>103.0</td>\n",
       "      <td>147</td>\n",
       "    </tr>\n",
       "    <tr>\n",
       "      <th>11</th>\n",
       "      <td>60</td>\n",
       "      <td>100.0</td>\n",
       "      <td>120</td>\n",
       "    </tr>\n",
       "    <tr>\n",
       "      <th>12</th>\n",
       "      <td>60</td>\n",
       "      <td>100.0</td>\n",
       "      <td>120</td>\n",
       "    </tr>\n",
       "    <tr>\n",
       "      <th>14</th>\n",
       "      <td>60</td>\n",
       "      <td>104.0</td>\n",
       "      <td>132</td>\n",
       "    </tr>\n",
       "    <tr>\n",
       "      <th>15</th>\n",
       "      <td>60</td>\n",
       "      <td>98.0</td>\n",
       "      <td>123</td>\n",
       "    </tr>\n",
       "    <tr>\n",
       "      <th>16</th>\n",
       "      <td>60</td>\n",
       "      <td>98.0</td>\n",
       "      <td>120</td>\n",
       "    </tr>\n",
       "    <tr>\n",
       "      <th>17</th>\n",
       "      <td>60</td>\n",
       "      <td>100.0</td>\n",
       "      <td>120</td>\n",
       "    </tr>\n",
       "    <tr>\n",
       "      <th>19</th>\n",
       "      <td>60</td>\n",
       "      <td>103.0</td>\n",
       "      <td>123</td>\n",
       "    </tr>\n",
       "    <tr>\n",
       "      <th>20</th>\n",
       "      <td>45</td>\n",
       "      <td>97.0</td>\n",
       "      <td>125</td>\n",
       "    </tr>\n",
       "    <tr>\n",
       "      <th>21</th>\n",
       "      <td>60</td>\n",
       "      <td>108.0</td>\n",
       "      <td>131</td>\n",
       "    </tr>\n",
       "    <tr>\n",
       "      <th>23</th>\n",
       "      <td>60</td>\n",
       "      <td>130.0</td>\n",
       "      <td>101</td>\n",
       "    </tr>\n",
       "    <tr>\n",
       "      <th>24</th>\n",
       "      <td>45</td>\n",
       "      <td>105.0</td>\n",
       "      <td>132</td>\n",
       "    </tr>\n",
       "    <tr>\n",
       "      <th>25</th>\n",
       "      <td>60</td>\n",
       "      <td>102.0</td>\n",
       "      <td>126</td>\n",
       "    </tr>\n",
       "    <tr>\n",
       "      <th>26</th>\n",
       "      <td>60</td>\n",
       "      <td>100.0</td>\n",
       "      <td>120</td>\n",
       "    </tr>\n",
       "    <tr>\n",
       "      <th>27</th>\n",
       "      <td>60</td>\n",
       "      <td>92.0</td>\n",
       "      <td>118</td>\n",
       "    </tr>\n",
       "    <tr>\n",
       "      <th>29</th>\n",
       "      <td>60</td>\n",
       "      <td>100.0</td>\n",
       "      <td>132</td>\n",
       "    </tr>\n",
       "    <tr>\n",
       "      <th>30</th>\n",
       "      <td>60</td>\n",
       "      <td>102.0</td>\n",
       "      <td>129</td>\n",
       "    </tr>\n",
       "    <tr>\n",
       "      <th>31</th>\n",
       "      <td>60</td>\n",
       "      <td>92.0</td>\n",
       "      <td>115</td>\n",
       "    </tr>\n",
       "  </tbody>\n",
       "</table>\n",
       "</div>"
      ],
      "text/plain": [
       "    Duration  Pulse  Maxpulse\n",
       "0         60  110.0       130\n",
       "1         60  117.0       145\n",
       "2         60  103.0       135\n",
       "3         45  109.0       175\n",
       "4         45  117.0       148\n",
       "5         60  102.0       127\n",
       "6         60  110.0       136\n",
       "7        450  104.0       134\n",
       "8         30  109.0       133\n",
       "9         60   98.0       124\n",
       "10        60  103.0       147\n",
       "11        60  100.0       120\n",
       "12        60  100.0       120\n",
       "14        60  104.0       132\n",
       "15        60   98.0       123\n",
       "16        60   98.0       120\n",
       "17        60  100.0       120\n",
       "19        60  103.0       123\n",
       "20        45   97.0       125\n",
       "21        60  108.0       131\n",
       "23        60  130.0       101\n",
       "24        45  105.0       132\n",
       "25        60  102.0       126\n",
       "26        60  100.0       120\n",
       "27        60   92.0       118\n",
       "29        60  100.0       132\n",
       "30        60  102.0       129\n",
       "31        60   92.0       115"
      ]
     },
     "execution_count": 21,
     "metadata": {},
     "output_type": "execute_result"
    }
   ],
   "source": [
    "df1"
   ]
  },
  {
   "cell_type": "code",
   "execution_count": 22,
   "id": "23adb886-4b2c-4469-8328-44bed7ff8752",
   "metadata": {},
   "outputs": [
    {
     "data": {
      "text/html": [
       "<div>\n",
       "<style scoped>\n",
       "    .dataframe tbody tr th:only-of-type {\n",
       "        vertical-align: middle;\n",
       "    }\n",
       "\n",
       "    .dataframe tbody tr th {\n",
       "        vertical-align: top;\n",
       "    }\n",
       "\n",
       "    .dataframe thead th {\n",
       "        text-align: right;\n",
       "    }\n",
       "</style>\n",
       "<table border=\"1\" class=\"dataframe\">\n",
       "  <thead>\n",
       "    <tr style=\"text-align: right;\">\n",
       "      <th></th>\n",
       "      <th>Duration</th>\n",
       "      <th>Pulse</th>\n",
       "      <th>Maxpulse</th>\n",
       "    </tr>\n",
       "  </thead>\n",
       "  <tbody>\n",
       "    <tr>\n",
       "      <th>count</th>\n",
       "      <td>28.000000</td>\n",
       "      <td>28.000000</td>\n",
       "      <td>28.000000</td>\n",
       "    </tr>\n",
       "    <tr>\n",
       "      <th>mean</th>\n",
       "      <td>70.714286</td>\n",
       "      <td>104.035714</td>\n",
       "      <td>129.321429</td>\n",
       "    </tr>\n",
       "    <tr>\n",
       "      <th>std</th>\n",
       "      <td>74.705772</td>\n",
       "      <td>7.918484</td>\n",
       "      <td>13.394453</td>\n",
       "    </tr>\n",
       "    <tr>\n",
       "      <th>min</th>\n",
       "      <td>30.000000</td>\n",
       "      <td>92.000000</td>\n",
       "      <td>101.000000</td>\n",
       "    </tr>\n",
       "    <tr>\n",
       "      <th>25%</th>\n",
       "      <td>60.000000</td>\n",
       "      <td>100.000000</td>\n",
       "      <td>120.000000</td>\n",
       "    </tr>\n",
       "    <tr>\n",
       "      <th>50%</th>\n",
       "      <td>60.000000</td>\n",
       "      <td>102.500000</td>\n",
       "      <td>128.000000</td>\n",
       "    </tr>\n",
       "    <tr>\n",
       "      <th>75%</th>\n",
       "      <td>60.000000</td>\n",
       "      <td>108.250000</td>\n",
       "      <td>133.250000</td>\n",
       "    </tr>\n",
       "    <tr>\n",
       "      <th>max</th>\n",
       "      <td>450.000000</td>\n",
       "      <td>130.000000</td>\n",
       "      <td>175.000000</td>\n",
       "    </tr>\n",
       "  </tbody>\n",
       "</table>\n",
       "</div>"
      ],
      "text/plain": [
       "         Duration       Pulse    Maxpulse\n",
       "count   28.000000   28.000000   28.000000\n",
       "mean    70.714286  104.035714  129.321429\n",
       "std     74.705772    7.918484   13.394453\n",
       "min     30.000000   92.000000  101.000000\n",
       "25%     60.000000  100.000000  120.000000\n",
       "50%     60.000000  102.500000  128.000000\n",
       "75%     60.000000  108.250000  133.250000\n",
       "max    450.000000  130.000000  175.000000"
      ]
     },
     "execution_count": 22,
     "metadata": {},
     "output_type": "execute_result"
    }
   ],
   "source": [
    "df1.describe()"
   ]
  },
  {
   "cell_type": "code",
   "execution_count": 25,
   "id": "f9b73fb3-a513-485f-b69f-72f0068466e1",
   "metadata": {},
   "outputs": [],
   "source": [
    "for i in df1[\"Duration\"]:\n",
    "    if i > 60 or i < 15:\n",
    "        df1[\"Duration\"].replace(i,60,inplace=True)"
   ]
  },
  {
   "cell_type": "code",
   "execution_count": 26,
   "id": "d85d365d-f5c3-4298-b6ec-c1c8c2b9c799",
   "metadata": {},
   "outputs": [
    {
     "data": {
      "text/html": [
       "<div>\n",
       "<style scoped>\n",
       "    .dataframe tbody tr th:only-of-type {\n",
       "        vertical-align: middle;\n",
       "    }\n",
       "\n",
       "    .dataframe tbody tr th {\n",
       "        vertical-align: top;\n",
       "    }\n",
       "\n",
       "    .dataframe thead th {\n",
       "        text-align: right;\n",
       "    }\n",
       "</style>\n",
       "<table border=\"1\" class=\"dataframe\">\n",
       "  <thead>\n",
       "    <tr style=\"text-align: right;\">\n",
       "      <th></th>\n",
       "      <th>Duration</th>\n",
       "      <th>Pulse</th>\n",
       "      <th>Maxpulse</th>\n",
       "    </tr>\n",
       "  </thead>\n",
       "  <tbody>\n",
       "    <tr>\n",
       "      <th>count</th>\n",
       "      <td>28.000000</td>\n",
       "      <td>28.000000</td>\n",
       "      <td>28.000000</td>\n",
       "    </tr>\n",
       "    <tr>\n",
       "      <th>mean</th>\n",
       "      <td>56.785714</td>\n",
       "      <td>104.035714</td>\n",
       "      <td>129.321429</td>\n",
       "    </tr>\n",
       "    <tr>\n",
       "      <th>std</th>\n",
       "      <td>7.480132</td>\n",
       "      <td>7.918484</td>\n",
       "      <td>13.394453</td>\n",
       "    </tr>\n",
       "    <tr>\n",
       "      <th>min</th>\n",
       "      <td>30.000000</td>\n",
       "      <td>92.000000</td>\n",
       "      <td>101.000000</td>\n",
       "    </tr>\n",
       "    <tr>\n",
       "      <th>25%</th>\n",
       "      <td>60.000000</td>\n",
       "      <td>100.000000</td>\n",
       "      <td>120.000000</td>\n",
       "    </tr>\n",
       "    <tr>\n",
       "      <th>50%</th>\n",
       "      <td>60.000000</td>\n",
       "      <td>102.500000</td>\n",
       "      <td>128.000000</td>\n",
       "    </tr>\n",
       "    <tr>\n",
       "      <th>75%</th>\n",
       "      <td>60.000000</td>\n",
       "      <td>108.250000</td>\n",
       "      <td>133.250000</td>\n",
       "    </tr>\n",
       "    <tr>\n",
       "      <th>max</th>\n",
       "      <td>60.000000</td>\n",
       "      <td>130.000000</td>\n",
       "      <td>175.000000</td>\n",
       "    </tr>\n",
       "  </tbody>\n",
       "</table>\n",
       "</div>"
      ],
      "text/plain": [
       "        Duration       Pulse    Maxpulse\n",
       "count  28.000000   28.000000   28.000000\n",
       "mean   56.785714  104.035714  129.321429\n",
       "std     7.480132    7.918484   13.394453\n",
       "min    30.000000   92.000000  101.000000\n",
       "25%    60.000000  100.000000  120.000000\n",
       "50%    60.000000  102.500000  128.000000\n",
       "75%    60.000000  108.250000  133.250000\n",
       "max    60.000000  130.000000  175.000000"
      ]
     },
     "execution_count": 26,
     "metadata": {},
     "output_type": "execute_result"
    }
   ],
   "source": [
    "df1.describe()"
   ]
  },
  {
   "cell_type": "code",
   "execution_count": 32,
   "id": "cfee7d78-343a-4325-825f-033d5483fc8a",
   "metadata": {},
   "outputs": [
    {
     "data": {
      "image/png": "[encoded data removed]",
      "text/plain": [
       "<Figure size 640x480 with 1 Axes>"
      ]
     },
     "metadata": {},
     "output_type": "display_data"
    }
   ],
   "source": [
    "plt.scatter(df[\"Maxpulse\"],df[\"Pulse\"],marker=\"*\",color=\"r\")\n",
    "plt.xlabel(\"Maxpulse\",color='green')\n",
    "plt.ylabel(\"Pulse\",color='green')\n",
    "plt.show()"
   ]
  },
  {
   "cell_type": "code",
   "execution_count": 33,
   "id": "bde1f52b-657d-4b02-8d39-c103da8a4768",
   "metadata": {},
   "outputs": [],
   "source": [
    "from scipy import stats"
   ]
  },
  {
   "cell_type": "code",
   "execution_count": 34,
   "id": "248af480-cd8d-4894-973f-5fbc9cd56bf3",
   "metadata": {},
   "outputs": [
    {
     "data": {
      "text/plain": [
       "LinregressResult(slope=0.12544697165185975, intercept=87.81273270173628, rvalue=0.21219891241171654, pvalue=0.2783369403665308, stderr=0.11329887226509822, intercept_stderr=14.7275616061668)"
      ]
     },
     "execution_count": 34,
     "metadata": {},
     "output_type": "execute_result"
    }
   ],
   "source": [
    "stats.linregress(df1[\"Maxpulse\"],df1[\"Pulse\"])"
   ]
  },
  {
   "cell_type": "code",
   "execution_count": 35,
   "id": "b7264f6d-4c9c-4822-bae4-073018d79aac",
   "metadata": {},
   "outputs": [],
   "source": [
    "slope,intercept,r,p,stderr = stats.linregress(df1[\"Maxpulse\"],df1[\"Pulse\"])"
   ]
  },
  {
   "cell_type": "code",
   "execution_count": 36,
   "id": "62451be4-78b2-4a78-88de-c21007aef97f",
   "metadata": {},
   "outputs": [
    {
     "data": {
      "text/plain": [
       "0.12544697165185975"
      ]
     },
     "execution_count": 36,
     "metadata": {},
     "output_type": "execute_result"
    }
   ],
   "source": [
    "slope"
   ]
  },
  {
   "cell_type": "code",
   "execution_count": 37,
   "id": "0603bd1d-a81c-4789-accd-ddd367f9f44f",
   "metadata": {},
   "outputs": [
    {
     "data": {
      "text/plain": [
       "87.81273270173628"
      ]
     },
     "execution_count": 37,
     "metadata": {},
     "output_type": "execute_result"
    }
   ],
   "source": [
    "intercept"
   ]
  },
  {
   "cell_type": "code",
   "execution_count": 38,
   "id": "3ed7a5f0-a68b-45f3-aa08-860f799106a1",
   "metadata": {},
   "outputs": [
    {
     "data": {
      "text/plain": [
       "0.21219891241171654"
      ]
     },
     "execution_count": 38,
     "metadata": {},
     "output_type": "execute_result"
    }
   ],
   "source": [
    "r"
   ]
  },
  {
   "cell_type": "code",
   "execution_count": 39,
   "id": "69baca89-061f-4f2f-8fe1-2b05fdcf0a26",
   "metadata": {},
   "outputs": [
    {
     "data": {
      "text/plain": [
       "0.2783369403665308"
      ]
     },
     "execution_count": 39,
     "metadata": {},
     "output_type": "execute_result"
    }
   ],
   "source": [
    "p"
   ]
  },
  {
   "cell_type": "code",
   "execution_count": 40,
   "id": "583fff89-e1b4-4898-b14e-280ad8fd6430",
   "metadata": {},
   "outputs": [
    {
     "data": {
      "text/plain": [
       "0.11329887226509822"
      ]
     },
     "execution_count": 40,
     "metadata": {},
     "output_type": "execute_result"
    }
   ],
   "source": [
    "stderr"
   ]
  },
  {
   "cell_type": "code",
   "execution_count": 41,
   "id": "877f2977-ec85-4743-a27b-6d33a8adfdb6",
   "metadata": {},
   "outputs": [],
   "source": [
    "def prediction(x):\n",
    "    return slope * x + intercept"
   ]
  },
  {
   "cell_type": "code",
   "execution_count": 42,
   "id": "bd02d96b-2dd1-4250-91fb-895e4549a004",
   "metadata": {},
   "outputs": [
    {
     "data": {
      "text/plain": [
       "91.32524790798836"
      ]
     },
     "execution_count": 42,
     "metadata": {},
     "output_type": "execute_result"
    }
   ],
   "source": [
    "prediction(28)"
   ]
  },
  {
   "cell_type": "code",
   "execution_count": 45,
   "id": "febdbda4-5716-4b55-87dc-a29241c83dce",
   "metadata": {},
   "outputs": [],
   "source": [
    "y_pred = list(map(prediction,df1[\"Maxpulse\"]))"
   ]
  },
  {
   "cell_type": "code",
   "execution_count": 46,
   "id": "8ea5fae0-d246-4503-b266-ac40e9cae915",
   "metadata": {},
   "outputs": [
    {
     "data": {
      "text/plain": [
       "[104.12083901647804,\n",
       " 106.00254359125594,\n",
       " 104.74807387473734,\n",
       " 109.76595274081174,\n",
       " 106.37888450621152,\n",
       " 103.74449810152247,\n",
       " 104.8735208463892,\n",
       " 104.62262690308549,\n",
       " 104.49717993143364,\n",
       " 103.36815718656689,\n",
       " 106.25343753455967,\n",
       " 102.86636929995944,\n",
       " 102.86636929995944,\n",
       " 104.37173295978177,\n",
       " 103.24271021491504,\n",
       " 102.86636929995944,\n",
       " 102.86636929995944,\n",
       " 103.24271021491504,\n",
       " 103.49360415821874,\n",
       " 104.24628598812991,\n",
       " 100.48287683857411,\n",
       " 104.37173295978177,\n",
       " 103.61905112987061,\n",
       " 102.86636929995944,\n",
       " 102.61547535665574,\n",
       " 104.37173295978177,\n",
       " 103.99539204482619,\n",
       " 102.23913444170014]"
      ]
     },
     "execution_count": 46,
     "metadata": {},
     "output_type": "execute_result"
    }
   ],
   "source": [
    "y_pred"
   ]
  },
  {
   "cell_type": "code",
   "execution_count": 50,
   "id": "8825abbe-e781-46b1-8797-0e92400da394",
   "metadata": {},
   "outputs": [
    {
     "data": {
      "image/png": "[encoded data removed]",
      "text/plain": [
       "<Figure size 640x480 with 1 Axes>"
      ]
     },
     "metadata": {},
     "output_type": "display_data"
    }
   ],
   "source": [
    "plt.scatter(df1[\"Maxpulse\"],df1[\"Pulse\"])\n",
    "plt.plot(df1[\"Maxpulse\"],y_pred)\n",
    "plt.show()"
   ]
  },
  {
   "cell_type": "code",
   "execution_count": 52,
   "id": "9582ce7b-26b5-4795-a317-fc8ab20dd0d1",
   "metadata": {},
   "outputs": [
    {
     "data": {
      "image/png": "[encoded data removed]",
      "text/plain": [
       "<Figure size 640x480 with 1 Axes>"
      ]
     },
     "metadata": {},
     "output_type": "display_data"
    }
   ],
   "source": [
    "plt.scatter(df1[\"Maxpulse\"],y_pred)\n",
    "plt.plot(df1[\"Maxpulse\"],y_pred)\n",
    "plt.show()"
   ]
  },
  {
   "cell_type": "code",
   "execution_count": null,
   "id": "690be244-337d-4c94-a218-59eeb6882177",
   "metadata": {},
   "outputs": [],
   "source": []
  }
 ],
 "metadata": {
  "kernelspec": {
   "display_name": "Python 3 (ipykernel)",
   "language": "python",
   "name": "python3"
  },
  "language_info": {
   "codemirror_mode": {
    "name": "ipython",
    "version": 3
   },
   "file_extension": ".py",
   "mimetype": "text/x-python",
   "name": "python",
   "nbconvert_exporter": "python",
   "pygments_lexer": "ipython3",
   "version": "3.11.7"
  },
  "widgets": {
   "application/vnd.jupyter.widget-state+json": {
    "state": {},
    "version_major": 2,
    "version_minor": 0
   }
  }
 },
 "nbformat": 4,
 "nbformat_minor": 5
}
